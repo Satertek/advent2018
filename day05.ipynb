{
 "cells": [
  {
   "cell_type": "markdown",
   "metadata": {},
   "source": [
    "# Advent of Code 2018\n",
    "### Day 5\n",
    "### Brian Irelan"
   ]
  },
  {
   "cell_type": "code",
   "execution_count": 1,
   "metadata": {},
   "outputs": [],
   "source": [
    "import logging\n",
    "logging.basicConfig(level=logging.INFO)\n",
    "\n",
    "alphabet =  list(map(chr, range(97, 123)))"
   ]
  },
  {
   "cell_type": "code",
   "execution_count": 2,
   "metadata": {},
   "outputs": [],
   "source": [
    "def puzzles(data_in, remove_letter=''):\n",
    "    # Preprocess data by removing one letter\n",
    "    letters_removed = 0\n",
    "    while(data_in.count(remove_letter)>0): # This is bad but I can't figure out why .pop and del are skipping letters\n",
    "        for position, letter in enumerate(data_in):\n",
    "            if letter.upper() == remove_letter.upper():\n",
    "                del data_in[position]\n",
    "                letters_removed += 1\n",
    "                       \n",
    "    found_reaction = True\n",
    "    iteration_count = 0\n",
    "    while(found_reaction):\n",
    "        previous_letter = ''\n",
    "        found_reaction = False\n",
    "        for position, letter in enumerate(data_in):\n",
    "            # If prevous letter is the letter but a different case\n",
    "            if letter.upper() == previous_letter.upper() and letter != previous_letter:\n",
    "                data_in.pop(position-1)\n",
    "                data_in.pop(position-1)\n",
    "                found_reaction = True\n",
    "                previous_letter = ''\n",
    "            else:\n",
    "                previous_letter = letter\n",
    "                \n",
    "        iteration_count += 1\n",
    "\n",
    "    data_in = \"\".join(data_in)\n",
    "    \n",
    "    logging.debug(\"Remaining Units ({} removed): {}, Iteration Count: {}, Letters Removed: {}\".format(\n",
    "        remove_letter if not '' else \"None\", len(data_in), iteration_count, letters_removed))\n",
    "    return len(data_in)"
   ]
  },
  {
   "cell_type": "code",
   "execution_count": 3,
   "metadata": {},
   "outputs": [],
   "source": [
    "#raw_input = \"dabAcCaCBAcCcaDA\"\n",
    "#data = list(raw_input)\n",
    "\n",
    "input_file = \"day05_input.txt\"\n",
    "f = open(input_file)\n",
    "data = list(f.readlines()[0].strip())"
   ]
  },
  {
   "cell_type": "code",
   "execution_count": 4,
   "metadata": {},
   "outputs": [
    {
     "name": "stderr",
     "output_type": "stream",
     "text": [
      "INFO:root:Processing Part One...\n",
      "INFO:root:[Part One] Remaining Units: 11894\n"
     ]
    }
   ],
   "source": [
    "logging.info(\"Processing Part One...\")\n",
    "remaining = puzzles(data.copy())\n",
    "logging.info(\"[Part One] Remaining Units: {}\".format(remaining))"
   ]
  },
  {
   "cell_type": "code",
   "execution_count": 5,
   "metadata": {},
   "outputs": [
    {
     "name": "stderr",
     "output_type": "stream",
     "text": [
      "INFO:root:Processing Part Two...\n"
     ]
    },
    {
     "name": "stdout",
     "output_type": "stream",
     "text": [
      "........................."
     ]
    },
    {
     "name": "stderr",
     "output_type": "stream",
     "text": [
      "INFO:root:[Part Two] Remaining Units (k removed): 5310\n"
     ]
    },
    {
     "name": "stdout",
     "output_type": "stream",
     "text": [
      "."
     ]
    }
   ],
   "source": [
    "logging.info(\"Processing Part Two...\")\n",
    "remaining = []\n",
    "for letter in alphabet:\n",
    "    logging.debug(\"Removing {}\".format(letter))\n",
    "    remaining.append(puzzles(data.copy(), letter))\n",
    "    print(\".\",end='')\n",
    "\n",
    "optimal_length = min(remaining)\n",
    "optimal_letter = chr(remaining.index(optimal_length)+97)\n",
    "\n",
    "logging.info(\"[Part Two] Remaining Units ({} removed): {}\".format(optimal_letter.lower(), optimal_length))"
   ]
  },
  {
   "cell_type": "code",
   "execution_count": null,
   "metadata": {},
   "outputs": [],
   "source": []
  }
 ],
 "metadata": {
  "kernelspec": {
   "display_name": "Python 3",
   "language": "python",
   "name": "python3"
  },
  "language_info": {
   "codemirror_mode": {
    "name": "ipython",
    "version": 3
   },
   "file_extension": ".py",
   "mimetype": "text/x-python",
   "name": "python",
   "nbconvert_exporter": "python",
   "pygments_lexer": "ipython3",
   "version": "3.6.6"
  }
 },
 "nbformat": 4,
 "nbformat_minor": 2
}
