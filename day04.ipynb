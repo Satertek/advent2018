{
 "cells": [
  {
   "cell_type": "code",
   "execution_count": 1,
   "metadata": {},
   "outputs": [
    {
     "data": {
      "text/plain": [
       "'\\ntest_input = (\"[1518-11-01 00:00] Guard #10 begins shift\\n\"\\n              + \"[1518-11-01 00:05] falls asleep\\n\"\\n              + \"[1518-11-01 00:25] wakes up\\n\"\\n              + \"[1518-11-01 00:30] falls asleep\\n\"\\n              + \"[1518-11-01 00:55] wakes up\\n\"\\n              + \"[1518-11-01 23:58] Guard #99 begins shift\\n\"\\n              + \"[1518-11-02 00:40] falls asleep\\n\"\\n              + \"[1518-11-02 00:50] wakes up\\n\"\\n              + \"[1518-11-03 00:05] Guard #10 begins shift\\n\"\\n              + \"[1518-11-03 00:24] falls asleep\\n\"\\n              + \"[1518-11-03 00:29] wakes up\\n\"\\n              + \"[1518-11-04 00:02] Guard #99 begins shift\\n\"\\n              + \"[1518-11-04 00:36] falls asleep\\n\"\\n              + \"[1518-11-04 00:46] wakes up\\n\"\\n              + \"[1518-11-05 00:03] Guard #99 begins shift\\n\"\\n              + \"[1518-11-05 00:45] falls asleep\\n\"\\n              + \"[1518-11-05 00:55] wakes up\")\\n'"
      ]
     },
     "execution_count": 1,
     "metadata": {},
     "output_type": "execute_result"
    }
   ],
   "source": [
    "#Created on Tue Dec  4 09:20:40 2018\n",
    "#@author: IrelanBT\n",
    "#Advent of Code 2018\n",
    "#Day 4\n",
    "\n",
    "import re\n",
    "\n",
    "test_input = (\"[1518-11-01 00:00] Guard #10 begins shift\\n\"\n",
    "              + \"[1518-11-01 00:05] falls asleep\\n\"\n",
    "              + \"[1518-11-01 00:25] wakes up\\n\"\n",
    "              + \"[1518-11-01 00:30] falls asleep\\n\"\n",
    "              + \"[1518-11-01 00:55] wakes up\\n\"\n",
    "              + \"[1518-11-01 23:58] Guard #99 begins shift\\n\"\n",
    "              + \"[1518-11-02 00:40] falls asleep\\n\"\n",
    "              + \"[1518-11-02 00:50] wakes up\\n\"\n",
    "              + \"[1518-11-03 00:05] Guard #10 begins shift\\n\"\n",
    "              + \"[1518-11-03 00:24] falls asleep\\n\"\n",
    "              + \"[1518-11-03 00:29] wakes up\\n\"\n",
    "              + \"[1518-11-04 00:02] Guard #99 begins shift\\n\"\n",
    "              + \"[1518-11-04 00:36] falls asleep\\n\"\n",
    "              + \"[1518-11-04 00:46] wakes up\\n\"\n",
    "              + \"[1518-11-05 00:03] Guard #99 begins shift\\n\"\n",
    "              + \"[1518-11-05 00:45] falls asleep\\n\"\n",
    "              + \"[1518-11-05 00:55] wakes up\")\n",
    "#raw_data = test_input.split('\\n')"
   ]
  },
  {
   "cell_type": "code",
   "execution_count": 1,
   "metadata": {},
   "outputs": [],
   "source": [
    "input_file = \"day04_input.txt\"\n",
    "f = open(input_file)\n",
    "raw_data = f.readlines()"
   ]
  },
  {
   "cell_type": "code",
   "execution_count": 1,
   "metadata": {},
   "outputs": [],
   "source": [
    "input_regex = ('\\[(?P<year>\\d+)-(?P<month>\\d+)-(?P<day>\\d+)\\s(?P<hour>\\d+):(?P<minute>\\d+)\\]'\n",
    "             + '\\s(Guard|(?P<action>\\S+))\\s(#?)(?P<id>\\d+)?')\n",
    "data = []\n",
    "for each in raw_data:\n",
    "    data.append(re.search(input_regex, each).groupdict())\n",
    "\n",
    "sorted_data = sorted(data, key=lambda x: (x['month'],x['day'],x['hour'],x['minute']))\n",
    "\n",
    "guard_id = {'guards':{}}\n",
    "for record in sorted_data:\n",
    "    if record['id']:\n",
    "        current_guard = record['id']\n",
    "\n",
    "    # Create key for guard if it doesn't exist\n",
    "    try:\n",
    "        guard_id['guards'][current_guard]\n",
    "    except KeyError:\n",
    "        guard_id['guards'].update({record['id']:\n",
    "            {'minutes_asleep': ([0]*60)}})\n",
    "\n",
    "    if record['action'] == \"falls\":  # asleep\n",
    "        # Record time fell asleep\n",
    "        fell_asleep = int(record['minute'])\n",
    "\n",
    "    if record['action'] == \"wakes\":\n",
    "        # Write time fell asleep and woke up to guard list\n",
    "        for i in range(fell_asleep, int(record['minute'])):\n",
    "            guard_id['guards'][current_guard]['minutes_asleep'][i] += 1"
   ]
  },
  {
   "cell_type": "code",
   "execution_count": 1,
   "metadata": {},
   "outputs": [
    {
     "ename": "FileNotFoundError",
     "evalue": "[Errno 2] No such file or directory: 'day04_input.txt'",
     "output_type": "error",
     "traceback": [
      "\u001b[0;31m---------------------------------------------------------------------------\u001b[0m",
      "\u001b[0;31mFileNotFoundError\u001b[0m                         Traceback (most recent call last)",
      "\u001b[0;32m<ipython-input-1-2b5f642f2e45>\u001b[0m in \u001b[0;36m<module>\u001b[0;34m\u001b[0m\n\u001b[1;32m     31\u001b[0m \u001b[0;34m\u001b[0m\u001b[0m\n\u001b[1;32m     32\u001b[0m \u001b[0minput_file\u001b[0m \u001b[0;34m=\u001b[0m \u001b[0;34m\"day04_input.txt\"\u001b[0m\u001b[0;34m\u001b[0m\u001b[0m\n\u001b[0;32m---> 33\u001b[0;31m \u001b[0mf\u001b[0m \u001b[0;34m=\u001b[0m \u001b[0mopen\u001b[0m\u001b[0;34m(\u001b[0m\u001b[0minput_file\u001b[0m\u001b[0;34m)\u001b[0m\u001b[0;34m\u001b[0m\u001b[0m\n\u001b[0m\u001b[1;32m     34\u001b[0m \u001b[0mraw_data\u001b[0m \u001b[0;34m=\u001b[0m \u001b[0mf\u001b[0m\u001b[0;34m.\u001b[0m\u001b[0mreadlines\u001b[0m\u001b[0;34m(\u001b[0m\u001b[0;34m)\u001b[0m\u001b[0;34m\u001b[0m\u001b[0m\n\u001b[1;32m     35\u001b[0m \u001b[0;34m\u001b[0m\u001b[0m\n",
      "\u001b[0;31mFileNotFoundError\u001b[0m: [Errno 2] No such file or directory: 'day04_input.txt'"
     ]
    }
   ],
   "source": [
    "print(\"Guard\\tSleep\\tSleepiest\\t\\t\\tSchedule\")\n",
    "print(\"ID#\\tTime\\tTime\")\n",
    "print(\"\\tmin\\tmin (#)\\t000000000011111111112222222222333333333344444444445555555555\")\n",
    "print(\"\\t\\t\\t012345678901234567890123456789012345678901234567890123456789\")\n",
    "\n",
    "sleepiest_times = []\n",
    "for guard in list(guard_id['guards']):\n",
    "    sleep_list = guard_id['guards'][guard]['minutes_asleep']\n",
    "    this_sleepy_time = int(sleep_list.index(max(sleep_list)))\n",
    "    heaviest_sleeper = sum(sleep_list)\n",
    "    sleepiest_times.append({'guard':guard,\n",
    "                            'total':heaviest_sleeper,\n",
    "                            'min':this_sleepy_time,\n",
    "                            'times':sleep_list[this_sleepy_time]})\n",
    "    print(\"{:4d}\\t{:3d}\\t{:2d} ({:2d})\\t{}\".format(int(guard),\n",
    "                              heaviest_sleeper,\n",
    "                              this_sleepy_time,\n",
    "                              sleep_list[this_sleepy_time],\n",
    "                              \"\".join((\"#\" if x>9 else str(x)) for x in sleep_list) # keeps everything square\n",
    "                              ))\n",
    "\n",
    "sleepiest_guard = sorted(sleepiest_times,key=lambda x: x['total']).pop()\n",
    "sleepy_guard_id = int(sleepiest_guard['guard'])\n",
    "sleepy_guard_total = int(sleepiest_guard['total'])\n",
    "sleepy_guard_min = int(sleepiest_guard['min'])\n",
    "sleepy_guard_answer = sleepy_guard_id * sleepy_guard_min\n",
    "\n",
    "consistant_guard = sorted(sleepiest_times,key=lambda x: x['times']).pop()\n",
    "consistant_guard_id = int(consistant_guard['guard'])\n",
    "consistant_guard_times = int(consistant_guard['times'])\n",
    "consistant_guard_min = int(consistant_guard['min'])\n",
    "consistant_guard_answer = consistant_guard_id * consistant_guard_min\n",
    "\n",
    "print(\"\\nSleepiest Guard (Strategy 1)\\n#{:4d}\\tfor {:2d} mins\\tAnswer 1: {}\\t\".format(sleepy_guard_id,\n",
    "                                                      sleepy_guard_min,\n",
    "                                                      sleepy_guard_answer))\n",
    "print(\"\\nConsistant Sleep Schedule Guard (Strategy 2)\\n#{:4d}\\tat 00:{:2d}\\tAnswer 2: {}\".format(consistant_guard_id,\n",
    "                                                      consistant_guard_min,\n",
    "                                                      consistant_guard_answer))"
   ]
  },
  {
   "cell_type": "code",
   "execution_count": null,
   "metadata": {},
   "outputs": [],
   "source": []
  }
 ],
 "metadata": {
  "kernelspec": {
   "display_name": "Python 3",
   "language": "python",
   "name": "python3"
  },
  "language_info": {
   "name": ""
  }
 },
 "nbformat": 4,
 "nbformat_minor": 2
}
